{
 "cells": [
  {
   "cell_type": "code",
   "execution_count": 68,
   "metadata": {},
   "outputs": [],
   "source": [
    "import yfinance as yf\n",
    "import pandas as pd \n",
    "from operator import attrgetter\n",
    "from __future__ import division"
   ]
  },
  {
   "cell_type": "code",
   "execution_count": 69,
   "metadata": {},
   "outputs": [
    {
     "data": {
      "text/plain": [
       "{'zip': '98052',\n",
       " 'sector': 'Technology',\n",
       " 'fullTimeEmployees': 144000,\n",
       " 'longBusinessSummary': 'Microsoft Corporation develops, licenses, and supports software, services, devices, and solutions worldwide. Its Productivity and Business Processes segment offers Office, Exchange, SharePoint, Microsoft Teams, Office 365 Security and Compliance, and Skype for Business, as well as related Client Access Licenses (CAL); Skype, Outlook.com, and OneDrive; LinkedIn that includes Talent and marketing solutions, and subscriptions; and Dynamics 365, a set of cloud-based and on-premises business solutions for small and medium businesses, large organizations, and divisions of enterprises. Its Intelligent Cloud segment licenses SQL and Windows Servers, Visual Studio, System Center, and related CALs; GitHub that provides a collaboration platform and code hosting service for developers; and Azure, a cloud platform. It also provides support services and Microsoft consulting services to assist customers in developing, deploying, and managing Microsoft server and desktop solutions; and training and certification to developers and IT professionals on various Microsoft products. Its More Personal Computing segment offers Windows OEM licensing and other non-volume licensing of the Windows operating system; Windows Commercial, such as volume licensing of the Windows operating system, Windows cloud services, and other Windows commercial offerings; patent licensing; Windows Internet of Things; and MSN advertising. It also provides Microsoft Surface, PC accessories, and other intelligent devices; Gaming, including Xbox hardware, and Xbox software and services; video games and third-party video game royalties; and Search, including Bing and Microsoft advertising. It sells its products through distributors and resellers; and directly through digital marketplaces, online stores, and retail stores. It has strategic partnerships with Humana Inc., Nokia, Telkomsel, Swiss Re, Kubota Corporation, and FedEx Corp. The company was founded in 1975 and is headquartered in Redmond, Washington.',\n",
       " 'city': 'Redmond',\n",
       " 'phone': '425-882-8080',\n",
       " 'state': 'WA',\n",
       " 'country': 'United States',\n",
       " 'companyOfficers': [],\n",
       " 'website': 'http://www.microsoft.com',\n",
       " 'maxAge': 1,\n",
       " 'address1': 'One Microsoft Way',\n",
       " 'fax': '425-706-7329',\n",
       " 'industry': 'Software—Infrastructure',\n",
       " 'previousClose': 200.34,\n",
       " 'regularMarketOpen': 199.73,\n",
       " 'twoHundredDayAverage': 170.44211,\n",
       " 'trailingAnnualDividendYield': 0.009933114,\n",
       " 'payoutRatio': 0.3233,\n",
       " 'volume24Hr': None,\n",
       " 'regularMarketDayHigh': 199.87,\n",
       " 'navPrice': None,\n",
       " 'averageDailyVolume10Day': 32994325,\n",
       " 'totalAssets': None,\n",
       " 'regularMarketPreviousClose': 200.34,\n",
       " 'fiftyDayAverage': 187.75,\n",
       " 'trailingAnnualDividendRate': 1.99,\n",
       " 'open': 199.73,\n",
       " 'toCurrency': None,\n",
       " 'averageVolume10days': 32994325,\n",
       " 'expireDate': None,\n",
       " 'yield': None,\n",
       " 'algorithm': None,\n",
       " 'dividendRate': 2.04,\n",
       " 'exDividendDate': 1597795200,\n",
       " 'beta': 0.925537,\n",
       " 'circulatingSupply': None,\n",
       " 'startDate': None,\n",
       " 'regularMarketDayLow': 194.88,\n",
       " 'priceHint': 2,\n",
       " 'currency': 'USD',\n",
       " 'trailingPE': 32.834057,\n",
       " 'regularMarketVolume': 28276959,\n",
       " 'lastMarket': None,\n",
       " 'maxSupply': None,\n",
       " 'openInterest': None,\n",
       " 'marketCap': 1494468526080,\n",
       " 'volumeAllCurrencies': None,\n",
       " 'strikePrice': None,\n",
       " 'averageVolume': 40399771,\n",
       " 'priceToSalesTrailing12Months': 10.774905,\n",
       " 'dayLow': 194.88,\n",
       " 'ask': 196.99,\n",
       " 'ytdReturn': None,\n",
       " 'askSize': 1800,\n",
       " 'volume': 28276959,\n",
       " 'fiftyTwoWeekHigh': 203.95,\n",
       " 'forwardPE': 31.683283,\n",
       " 'fromCurrency': None,\n",
       " 'fiveYearAvgDividendYield': 1.92,\n",
       " 'fiftyTwoWeekLow': 130.78,\n",
       " 'bid': 196.95,\n",
       " 'tradeable': False,\n",
       " 'dividendYield': 0.010199999,\n",
       " 'bidSize': 1300,\n",
       " 'dayHigh': 199.87,\n",
       " 'exchange': 'NMS',\n",
       " 'shortName': 'Microsoft Corporation',\n",
       " 'longName': 'Microsoft Corporation',\n",
       " 'exchangeTimezoneName': 'America/New_York',\n",
       " 'exchangeTimezoneShortName': 'EDT',\n",
       " 'isEsgPopulated': False,\n",
       " 'gmtOffSetMilliseconds': '-14400000',\n",
       " 'quoteType': 'EQUITY',\n",
       " 'symbol': 'MSFT',\n",
       " 'messageBoardId': 'finmb_21835',\n",
       " 'market': 'us_market',\n",
       " 'annualHoldingsTurnover': None,\n",
       " 'enterpriseToRevenue': 10.567,\n",
       " 'beta3Year': None,\n",
       " 'profitMargins': 0.33356997,\n",
       " 'enterpriseToEbitda': 22.868,\n",
       " '52WeekChange': 0.49552095,\n",
       " 'morningStarRiskRating': None,\n",
       " 'forwardEps': 6.22,\n",
       " 'revenueQuarterlyGrowth': None,\n",
       " 'sharesOutstanding': 7583439872,\n",
       " 'fundInceptionDate': None,\n",
       " 'annualReportExpenseRatio': None,\n",
       " 'bookValue': 15.086,\n",
       " 'sharesShort': 42930465,\n",
       " 'sharesPercentSharesOut': 0.0057,\n",
       " 'fundFamily': None,\n",
       " 'lastFiscalYearEnd': 1561852800,\n",
       " 'heldPercentInstitutions': 0.74093,\n",
       " 'netIncomeToCommon': 46265999360,\n",
       " 'trailingEps': 6.002,\n",
       " 'lastDividendValue': None,\n",
       " 'SandP52WeekChange': 0.048270464,\n",
       " 'priceToBook': 13.063767,\n",
       " 'heldPercentInsiders': 0.014249999,\n",
       " 'nextFiscalYearEnd': 1625011200,\n",
       " 'mostRecentQuarter': 1585612800,\n",
       " 'shortRatio': 1.24,\n",
       " 'sharesShortPreviousMonthDate': 1589500800,\n",
       " 'floatShares': 7472267013,\n",
       " 'enterpriseValue': 1465649463296,\n",
       " 'threeYearAverageReturn': None,\n",
       " 'lastSplitDate': 1045526400,\n",
       " 'lastSplitFactor': '2:1',\n",
       " 'legalType': None,\n",
       " 'morningStarOverallRating': None,\n",
       " 'earningsQuarterlyGrowth': 0.221,\n",
       " 'dateShortInterest': 1592179200,\n",
       " 'pegRatio': 2.25,\n",
       " 'lastCapGain': None,\n",
       " 'shortPercentOfFloat': 0.0057,\n",
       " 'sharesShortPriorMonth': 44236712,\n",
       " 'category': None,\n",
       " 'fiveYearAverageReturn': None,\n",
       " 'regularMarketPrice': 199.73,\n",
       " 'logo_url': 'https://logo.clearbit.com/microsoft.com'}"
      ]
     },
     "execution_count": 69,
     "metadata": {},
     "output_type": "execute_result"
    }
   ],
   "source": [
    "# for testing\n",
    "msft = yf.Ticker(\"MSFT\")\n",
    "msft.info "
   ]
  },
  {
   "cell_type": "code",
   "execution_count": 70,
   "metadata": {},
   "outputs": [],
   "source": [
    "# COLUMNS: Ticker, Company, Open_date, Close_date, Dividends, Difference_%, Recommended_by, Source, Outcome"
   ]
  },
  {
   "cell_type": "code",
   "execution_count": 71,
   "metadata": {},
   "outputs": [],
   "source": [
    "# Column 1: tickers from web scraping\n",
    "\n",
    "# dummy examples\n",
    "tickers = ['MSFT', 'FB', 'AMZN', 'AAPL']"
   ]
  },
  {
   "cell_type": "code",
   "execution_count": 72,
   "metadata": {},
   "outputs": [
    {
     "data": {
      "text/plain": [
       "['Microsoft Corporation', 'Facebook, Inc.', 'Amazon.com, Inc.', 'Apple Inc.']"
      ]
     },
     "execution_count": 72,
     "metadata": {},
     "output_type": "execute_result"
    }
   ],
   "source": [
    "# Column 2: company names \n",
    "\n",
    "yf_tickers = []\n",
    "company_names = []\n",
    "\n",
    "for i in tickers:\n",
    "    yf_tickers.append(yf.Ticker(i))\n",
    "    \n",
    "for i in yf_tickers:\n",
    "    company_names.append((i).info['shortName'])\n",
    "\n",
    "company_names"
   ]
  },
  {
   "cell_type": "code",
   "execution_count": 73,
   "metadata": {},
   "outputs": [
    {
     "data": {
      "text/plain": [
       "Date\n",
       "2018-01-02    82.8\n",
       "Name: Close, dtype: float64"
      ]
     },
     "execution_count": 73,
     "metadata": {},
     "output_type": "execute_result"
    }
   ],
   "source": [
    "# open_date: January 2, 2018 - \"MSFT EXAMPLE\"\n",
    "tickerDF = msft.history(period = '1d', start = '2018-1-2', end = '2018-1-3', rounding = True)['Close']\n",
    "tickerDF"
   ]
  },
  {
   "cell_type": "code",
   "execution_count": 74,
   "metadata": {},
   "outputs": [
    {
     "data": {
      "text/plain": [
       "[Date\n",
       " 2018-01-02    82.8\n",
       " Name: Close, dtype: float64,\n",
       " Date\n",
       " 2018-01-02    181.42\n",
       " Name: Close, dtype: float64,\n",
       " Date\n",
       " 2018-01-02    1189.01\n",
       " Name: Close, dtype: float64,\n",
       " Date\n",
       " 2018-01-02    166.35\n",
       " Name: Close, dtype: float64]"
      ]
     },
     "execution_count": 74,
     "metadata": {},
     "output_type": "execute_result"
    }
   ],
   "source": [
    "# Column 3: open rates \n",
    "#(How do we get rid of object info i.e. '2018-01-02' and 'Name): Close,' etc.\n",
    "\n",
    "open_rates = []\n",
    "\n",
    "for i in yf_tickers:\n",
    "    open_rates.append((i).history(period = '1d', start = '2018-1-2', end = '2018-1-3', rounding = True)['Close'])\n",
    "\n",
    "open_rates"
   ]
  },
  {
   "cell_type": "code",
   "execution_count": 75,
   "metadata": {},
   "outputs": [
    {
     "data": {
      "text/plain": [
       "[Date\n",
       " 2018-12-31    99.54\n",
       " Name: Close, dtype: float64,\n",
       " Date\n",
       " 2018-12-31    131.09\n",
       " Name: Close, dtype: float64,\n",
       " Date\n",
       " 2018-12-31    1501.97\n",
       " Name: Close, dtype: float64,\n",
       " Date\n",
       " 2018-12-31    154.62\n",
       " Name: Close, dtype: float64]"
      ]
     },
     "execution_count": 75,
     "metadata": {},
     "output_type": "execute_result"
    }
   ],
   "source": [
    "# Column 4: close rates\n",
    "#(How do we get rid of object info i.e. '2018-01-02' and 'Name): Close,' etc.\n",
    "\n",
    "close_rates = []\n",
    "\n",
    "for i in yf_tickers:\n",
    "    close_rates.append((i).history(period = '1d', start = '2018-12-31', end = '2019-1-1', rounding = True)['Close'])\n",
    "\n",
    "close_rates"
   ]
  },
  {
   "cell_type": "code",
   "execution_count": 111,
   "metadata": {},
   "outputs": [],
   "source": [
    "# Column 5: dividends\n"
   ]
  },
  {
   "cell_type": "code",
   "execution_count": 134,
   "metadata": {},
   "outputs": [
    {
     "data": {
      "text/plain": [
       "['20.2%', '-27.7%', '26.3%', '-7.1%']"
      ]
     },
     "execution_count": 134,
     "metadata": {},
     "output_type": "execute_result"
    }
   ],
   "source": [
    "# Column 6: difference \n",
    "dummy_open_rates = [82.8, 181.42, 1189.01, 166.35]\n",
    "dummy_close_rates = [99.54, 131.09, 1501.97, 154.62]\n",
    "difference = []\n",
    "\n",
    "zip_object = zip(dummy_close_rates, dummy_open_rates)\n",
    "for dummy_close_rates_i, dummy_open_rates_i in zip_object:\n",
    "    difference.append(dummy_close_rates_i/dummy_open_rates_i-1)\n",
    "\n",
    "difference_pct = list(map(\"{0:.1%}\".format, difference))\n",
    "difference_pct"
   ]
  },
  {
   "cell_type": "code",
   "execution_count": 131,
   "metadata": {},
   "outputs": [],
   "source": [
    "# Column 8: Source - \"FROM WEB SCRAPING\"\n"
   ]
  },
  {
   "cell_type": "code",
   "execution_count": 132,
   "metadata": {},
   "outputs": [
    {
     "data": {
      "text/plain": [
       "['Success', 'Failure', 'Success', 'Failure']"
      ]
     },
     "execution_count": 132,
     "metadata": {},
     "output_type": "execute_result"
    }
   ],
   "source": [
    "# Column 9: outcome\n",
    "outcome = []\n",
    "\n",
    "for i in difference: \n",
    "    if i > 0:\n",
    "        outcome.append('Success')\n",
    "    else:\n",
    "        outcome.append('Failure')\n",
    "        \n",
    "outcome"
   ]
  },
  {
   "cell_type": "code",
   "execution_count": 133,
   "metadata": {},
   "outputs": [
    {
     "data": {
      "text/html": [
       "<div>\n",
       "<style scoped>\n",
       "    .dataframe tbody tr th:only-of-type {\n",
       "        vertical-align: middle;\n",
       "    }\n",
       "\n",
       "    .dataframe tbody tr th {\n",
       "        vertical-align: top;\n",
       "    }\n",
       "\n",
       "    .dataframe thead th {\n",
       "        text-align: right;\n",
       "    }\n",
       "</style>\n",
       "<table border=\"1\" class=\"dataframe\">\n",
       "  <thead>\n",
       "    <tr style=\"text-align: right;\">\n",
       "      <th></th>\n",
       "      <th>Ticker</th>\n",
       "      <th>Company</th>\n",
       "      <th>Price 02.01.2018</th>\n",
       "      <th>Price 31.12.2018</th>\n",
       "      <th>Gain</th>\n",
       "      <th>Outcome</th>\n",
       "    </tr>\n",
       "  </thead>\n",
       "  <tbody>\n",
       "    <tr>\n",
       "      <th>2</th>\n",
       "      <td>AMZN</td>\n",
       "      <td>Amazon.com, Inc.</td>\n",
       "      <td>Date\n",
       "2018-01-02    1189.01\n",
       "Name: Close, dtype:...</td>\n",
       "      <td>Date\n",
       "2018-12-31    1501.97\n",
       "Name: Close, dtype:...</td>\n",
       "      <td>26.3%</td>\n",
       "      <td>Success</td>\n",
       "    </tr>\n",
       "    <tr>\n",
       "      <th>0</th>\n",
       "      <td>MSFT</td>\n",
       "      <td>Microsoft Corporation</td>\n",
       "      <td>Date\n",
       "2018-01-02    82.8\n",
       "Name: Close, dtype: fl...</td>\n",
       "      <td>Date\n",
       "2018-12-31    99.54\n",
       "Name: Close, dtype: f...</td>\n",
       "      <td>20.2%</td>\n",
       "      <td>Success</td>\n",
       "    </tr>\n",
       "    <tr>\n",
       "      <th>3</th>\n",
       "      <td>AAPL</td>\n",
       "      <td>Apple Inc.</td>\n",
       "      <td>Date\n",
       "2018-01-02    166.35\n",
       "Name: Close, dtype: ...</td>\n",
       "      <td>Date\n",
       "2018-12-31    154.62\n",
       "Name: Close, dtype: ...</td>\n",
       "      <td>-7.1%</td>\n",
       "      <td>Failure</td>\n",
       "    </tr>\n",
       "    <tr>\n",
       "      <th>1</th>\n",
       "      <td>FB</td>\n",
       "      <td>Facebook, Inc.</td>\n",
       "      <td>Date\n",
       "2018-01-02    181.42\n",
       "Name: Close, dtype: ...</td>\n",
       "      <td>Date\n",
       "2018-12-31    131.09\n",
       "Name: Close, dtype: ...</td>\n",
       "      <td>-27.7%</td>\n",
       "      <td>Failure</td>\n",
       "    </tr>\n",
       "  </tbody>\n",
       "</table>\n",
       "</div>"
      ],
      "text/plain": [
       "  Ticker                Company  \\\n",
       "2   AMZN       Amazon.com, Inc.   \n",
       "0   MSFT  Microsoft Corporation   \n",
       "3   AAPL             Apple Inc.   \n",
       "1     FB         Facebook, Inc.   \n",
       "\n",
       "                                    Price 02.01.2018  \\\n",
       "2  Date\n",
       "2018-01-02    1189.01\n",
       "Name: Close, dtype:...   \n",
       "0  Date\n",
       "2018-01-02    82.8\n",
       "Name: Close, dtype: fl...   \n",
       "3  Date\n",
       "2018-01-02    166.35\n",
       "Name: Close, dtype: ...   \n",
       "1  Date\n",
       "2018-01-02    181.42\n",
       "Name: Close, dtype: ...   \n",
       "\n",
       "                                    Price 31.12.2018    Gain  Outcome  \n",
       "2  Date\n",
       "2018-12-31    1501.97\n",
       "Name: Close, dtype:...   26.3%  Success  \n",
       "0  Date\n",
       "2018-12-31    99.54\n",
       "Name: Close, dtype: f...   20.2%  Success  \n",
       "3  Date\n",
       "2018-12-31    154.62\n",
       "Name: Close, dtype: ...   -7.1%  Failure  \n",
       "1  Date\n",
       "2018-12-31    131.09\n",
       "Name: Close, dtype: ...  -27.7%  Failure  "
      ]
     },
     "execution_count": 133,
     "metadata": {},
     "output_type": "execute_result"
    }
   ],
   "source": [
    "# Analysis outcome\n",
    "\n",
    "data = {'Ticker': tickers, \n",
    "        'Company': company_names,\n",
    "         'Price 02.01.2018': open_rates,\n",
    "         'Price 31.12.2018': close_rates,\n",
    "         'Gain': difference_pct,\n",
    "         'Outcome': outcome}\n",
    "\n",
    "df = pd.DataFrame(data=data).sort_values('Gain', ascending = False)\n",
    "\n",
    "df"
   ]
  },
  {
   "cell_type": "code",
   "execution_count": null,
   "metadata": {},
   "outputs": [],
   "source": []
  },
  {
   "cell_type": "code",
   "execution_count": null,
   "metadata": {},
   "outputs": [],
   "source": []
  },
  {
   "cell_type": "code",
   "execution_count": null,
   "metadata": {},
   "outputs": [],
   "source": []
  },
  {
   "cell_type": "code",
   "execution_count": null,
   "metadata": {},
   "outputs": [],
   "source": []
  },
  {
   "cell_type": "code",
   "execution_count": null,
   "metadata": {},
   "outputs": [],
   "source": []
  },
  {
   "cell_type": "code",
   "execution_count": 90,
   "metadata": {},
   "outputs": [
    {
     "name": "stdout",
     "output_type": "stream",
     "text": [
      "[*********************100%***********************]  4 of 4 completed\n"
     ]
    },
    {
     "data": {
      "text/html": [
       "<div>\n",
       "<style scoped>\n",
       "    .dataframe tbody tr th:only-of-type {\n",
       "        vertical-align: middle;\n",
       "    }\n",
       "\n",
       "    .dataframe tbody tr th {\n",
       "        vertical-align: top;\n",
       "    }\n",
       "\n",
       "    .dataframe thead th {\n",
       "        text-align: right;\n",
       "    }\n",
       "</style>\n",
       "<table border=\"1\" class=\"dataframe\">\n",
       "  <thead>\n",
       "    <tr style=\"text-align: right;\">\n",
       "      <th></th>\n",
       "      <th>AAPL</th>\n",
       "      <th>AMZN</th>\n",
       "      <th>FB</th>\n",
       "      <th>MSFT</th>\n",
       "    </tr>\n",
       "    <tr>\n",
       "      <th>Date</th>\n",
       "      <th></th>\n",
       "      <th></th>\n",
       "      <th></th>\n",
       "      <th></th>\n",
       "    </tr>\n",
       "  </thead>\n",
       "  <tbody>\n",
       "    <tr>\n",
       "      <th>2018-01-02</th>\n",
       "      <td>172.26</td>\n",
       "      <td>1189.01</td>\n",
       "      <td>181.42</td>\n",
       "      <td>85.95</td>\n",
       "    </tr>\n",
       "    <tr>\n",
       "      <th>2018-01-03</th>\n",
       "      <td>172.23</td>\n",
       "      <td>1204.20</td>\n",
       "      <td>184.67</td>\n",
       "      <td>86.35</td>\n",
       "    </tr>\n",
       "    <tr>\n",
       "      <th>2018-01-04</th>\n",
       "      <td>173.03</td>\n",
       "      <td>1209.59</td>\n",
       "      <td>184.33</td>\n",
       "      <td>87.11</td>\n",
       "    </tr>\n",
       "    <tr>\n",
       "      <th>2018-01-05</th>\n",
       "      <td>175.00</td>\n",
       "      <td>1229.14</td>\n",
       "      <td>186.85</td>\n",
       "      <td>88.19</td>\n",
       "    </tr>\n",
       "    <tr>\n",
       "      <th>2018-01-08</th>\n",
       "      <td>174.35</td>\n",
       "      <td>1246.87</td>\n",
       "      <td>188.28</td>\n",
       "      <td>88.28</td>\n",
       "    </tr>\n",
       "    <tr>\n",
       "      <th>...</th>\n",
       "      <td>...</td>\n",
       "      <td>...</td>\n",
       "      <td>...</td>\n",
       "      <td>...</td>\n",
       "    </tr>\n",
       "    <tr>\n",
       "      <th>2020-06-19</th>\n",
       "      <td>349.72</td>\n",
       "      <td>2675.01</td>\n",
       "      <td>238.79</td>\n",
       "      <td>195.15</td>\n",
       "    </tr>\n",
       "    <tr>\n",
       "      <th>2020-06-22</th>\n",
       "      <td>358.87</td>\n",
       "      <td>2713.82</td>\n",
       "      <td>239.22</td>\n",
       "      <td>200.57</td>\n",
       "    </tr>\n",
       "    <tr>\n",
       "      <th>2020-06-23</th>\n",
       "      <td>366.53</td>\n",
       "      <td>2764.41</td>\n",
       "      <td>242.24</td>\n",
       "      <td>201.91</td>\n",
       "    </tr>\n",
       "    <tr>\n",
       "      <th>2020-06-24</th>\n",
       "      <td>360.06</td>\n",
       "      <td>2734.40</td>\n",
       "      <td>234.02</td>\n",
       "      <td>197.84</td>\n",
       "    </tr>\n",
       "    <tr>\n",
       "      <th>2020-06-25</th>\n",
       "      <td>364.84</td>\n",
       "      <td>2754.58</td>\n",
       "      <td>235.68</td>\n",
       "      <td>200.34</td>\n",
       "    </tr>\n",
       "  </tbody>\n",
       "</table>\n",
       "<p>625 rows × 4 columns</p>\n",
       "</div>"
      ],
      "text/plain": [
       "              AAPL     AMZN      FB    MSFT\n",
       "Date                                       \n",
       "2018-01-02  172.26  1189.01  181.42   85.95\n",
       "2018-01-03  172.23  1204.20  184.67   86.35\n",
       "2018-01-04  173.03  1209.59  184.33   87.11\n",
       "2018-01-05  175.00  1229.14  186.85   88.19\n",
       "2018-01-08  174.35  1246.87  188.28   88.28\n",
       "...            ...      ...     ...     ...\n",
       "2020-06-19  349.72  2675.01  238.79  195.15\n",
       "2020-06-22  358.87  2713.82  239.22  200.57\n",
       "2020-06-23  366.53  2764.41  242.24  201.91\n",
       "2020-06-24  360.06  2734.40  234.02  197.84\n",
       "2020-06-25  364.84  2754.58  235.68  200.34\n",
       "\n",
       "[625 rows x 4 columns]"
      ]
     },
     "execution_count": 90,
     "metadata": {},
     "output_type": "execute_result"
    }
   ],
   "source": [
    "# misc. notes\n",
    "yf.download(tickers, start = \"2018-1-1\", end= \"2020-12-31\", rounding = True, )['Close']"
   ]
  },
  {
   "cell_type": "code",
   "execution_count": 142,
   "metadata": {},
   "outputs": [
    {
     "data": {
      "text/plain": [
       "Date\n",
       "2003-02-19    0.08\n",
       "2003-10-15    0.16\n",
       "2004-08-23    0.08\n",
       "2004-11-15    3.08\n",
       "2005-02-15    0.08\n",
       "              ... \n",
       "2019-05-15    0.46\n",
       "2019-08-14    0.46\n",
       "2019-11-20    0.51\n",
       "2020-02-19    0.51\n",
       "2020-05-20    0.51\n",
       "Name: Dividends, Length: 66, dtype: float64"
      ]
     },
     "execution_count": 142,
     "metadata": {},
     "output_type": "execute_result"
    }
   ],
   "source": [
    "# dividends\n",
    "msft.dividends"
   ]
  },
  {
   "cell_type": "code",
   "execution_count": 144,
   "metadata": {
    "scrolled": true
   },
   "outputs": [
    {
     "name": "stdout",
     "output_type": "stream",
     "text": [
      "[yfinance.Ticker object <MSFT>, yfinance.Ticker object <FB>, yfinance.Ticker object <AMZN>, yfinance.Ticker object <AAPL>]\n"
     ]
    }
   ],
   "source": [
    "print(yf_tickers)"
   ]
  },
  {
   "cell_type": "code",
   "execution_count": null,
   "metadata": {},
   "outputs": [],
   "source": []
  }
 ],
 "metadata": {
  "kernelspec": {
   "display_name": "Python 3",
   "language": "python",
   "name": "python3"
  },
  "language_info": {
   "codemirror_mode": {
    "name": "ipython",
    "version": 3
   },
   "file_extension": ".py",
   "mimetype": "text/x-python",
   "name": "python",
   "nbconvert_exporter": "python",
   "pygments_lexer": "ipython3",
   "version": "3.8.3"
  }
 },
 "nbformat": 4,
 "nbformat_minor": 4
}
