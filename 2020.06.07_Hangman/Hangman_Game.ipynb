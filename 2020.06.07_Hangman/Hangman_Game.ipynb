{
 "cells": [
  {
   "cell_type": "code",
   "execution_count": null,
   "metadata": {},
   "outputs": [
    {
     "name": "stdout",
     "output_type": "stream",
     "text": [
      "attempts left:  5\n",
      "letters you have already used:  \n",
      "word:  _ _ _ _ \n",
      "\n"
     ]
    }
   ],
   "source": [
    "import random\n",
    "\n",
    "# words to be used for the game, all lower case\n",
    "words_to_guess = ['lion', 'crocodile', 'snake', 'fish', 'horse', 'shark', 'elephant', 'monkey']\n",
    "\n",
    "# randomly selecting a word from the list using random.choice()\n",
    "def random_word(words_to_guess):\n",
    "    word = random.choice(words_to_guess)\n",
    "    return word\n",
    "\n",
    "# actual game\n",
    "def play_hangman():                                       # function of the game\n",
    "    word = random_word(words_to_guess)                    # word to be used for the game\n",
    "    letters_in_word = set(word)                           # splits word into {'w', 'o', 'r', 'd',}\n",
    "    letters_guessed = set()                               # letters that user have alreay tried, set() to avoid multiple occurences \n",
    "    characters = set('abcdefghijklmnopqrstuvwxyz')        # characters to be used for the game {'a', 'b', 'c',}\n",
    "    attempts = 5                                          # attempts to guess the word before dying\n",
    "    \n",
    "    # duration of game\n",
    "    while len(letters_in_word) > 0 and attempts > 0:      # w.loop: keep playing as long as letters and attempts left  \n",
    "       \n",
    "        # status while playing (looping): attempts left and letters already used\n",
    "        print('attempts left: ', attempts)\n",
    "        print('letters you have already used: ', ' '.join(letters_guessed))   # {'a', 'b', 'c'} to a b c\n",
    "        \n",
    "        #status on word while playing (looping)\n",
    "        word_list = [character if character in letters_guessed else '_' for character in word]  # places _ for characters that haven't been guessed\n",
    "        print('word: ', ' '.join(word_list), '\\n')        # prints status with spaces and jumps line. {'_', 'a', '_'} to _ a _  \n",
    "        \n",
    "        # user input\n",
    "        user_guess = input('guess a letter: ').lower()    # letter user has typed in lower case\n",
    "        if user_guess in characters - letters_guessed:    # if allowed character and not already guessed\n",
    "            letters_guessed.add(user_guess)               # ... add to list with already guessed letters\n",
    "            \n",
    "            if user_guess in letters_in_word:             #  if the user's guess is in the word\n",
    "                letters_in_word.remove(user_guess)        # ... remove letter from word\n",
    "            \n",
    "            else:\n",
    "                attempts -= 1                             # ...or letter is not in the word \n",
    "                print('sorry, wrong guess!')\n",
    "\n",
    "        elif user_guess in letters_guessed:               # .. or if user has already tried that letter\n",
    "            print('letter already used')\n",
    " \n",
    "    # game ends when no attempts or letters in word left (w.loop)\n",
    "    if attempts == 0:\n",
    "        print('you died!☠️  better luck next time! the correct word was: ', word)\n",
    "    else:\n",
    "        print('correct word:', word, ' you win!🥳🎉')\n",
    "\n",
    "# play game\n",
    "play_hangman()"
   ]
  },
  {
   "cell_type": "code",
   "execution_count": null,
   "metadata": {},
   "outputs": [],
   "source": []
  },
  {
   "cell_type": "code",
   "execution_count": null,
   "metadata": {},
   "outputs": [],
   "source": []
  }
 ],
 "metadata": {
  "kernelspec": {
   "display_name": "Python 3",
   "language": "python",
   "name": "python3"
  },
  "language_info": {
   "codemirror_mode": {
    "name": "ipython",
    "version": 3
   },
   "file_extension": ".py",
   "mimetype": "text/x-python",
   "name": "python",
   "nbconvert_exporter": "python",
   "pygments_lexer": "ipython3",
   "version": "3.8.3"
  }
 },
 "nbformat": 4,
 "nbformat_minor": 4
}
